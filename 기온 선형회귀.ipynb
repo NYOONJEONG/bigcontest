{
 "cells": [
  {
   "cell_type": "code",
   "execution_count": 1,
   "id": "a42311fe-9afa-40fd-8c33-04f20637e570",
   "metadata": {},
   "outputs": [],
   "source": [
    "import numpy as np\n",
    "import pandas as pd\n",
    "from pandas import DataFrame\n",
    "from pandas import Series\n",
    "import seaborn as sns\n",
    "from tqdm import tqdm\n",
    "import matplotlib.pyplot as plt\n",
    "import matplotlib.font_manager as fm\n",
    "font_path = 'AppleGothic.ttf'\n",
    "fontprop = fm.FontProperties(fname=font_path, size=18)\n",
    "font_name = fm.FontProperties(fname=font_path).get_name()\n",
    "import statsmodels.api as sm\n",
    "from math import *"
   ]
  },
  {
   "cell_type": "code",
   "execution_count": 2,
   "id": "e4bb78d7-6351-4bd8-94d6-60c05d92878c",
   "metadata": {},
   "outputs": [],
   "source": [
    "weather = pd.read_csv(\"제주기상자료(월단위).csv\", encoding=\"cp949\")"
   ]
  },
  {
   "cell_type": "code",
   "execution_count": null,
   "id": "95fb5bf3-c5b5-4ec0-9d10-6421b14150d7",
   "metadata": {},
   "outputs": [],
   "source": [
    "weather.head()"
   ]
  },
  {
   "cell_type": "code",
   "execution_count": 3,
   "id": "a75c12b9-d16e-4215-aa05-184c666899ea",
   "metadata": {},
   "outputs": [],
   "source": [
    "temp_1 = weather[weather['지점명']=='제주']\n",
    "temp_1 = temp_1.drop(['지점','평균최고기온(°C)','평균최저기온(°C)','월합강수량(00~24h만)(mm)'],axis=1, inplace=False)\n",
    "temp_1 = temp_1.reset_index(drop=False)"
   ]
  },
  {
   "cell_type": "code",
   "execution_count": 4,
   "id": "8a41e1d4-9677-45dd-90f4-3696169478e0",
   "metadata": {},
   "outputs": [],
   "source": [
    "temp_1['sinx/6']= temp_1['index'].apply(lambda x: sin((x+1)*pi/6))\n",
    "temp_1['cosx/6']= temp_1['index'].apply(lambda x: cos((x+1)*pi/6))\n",
    "temp_1['sinx/3']= temp_1['index'].apply(lambda x: sin((x+1)*pi/3))\n",
    "temp_1['cosx/3']= temp_1['index'].apply(lambda x: cos((x+1)*pi/3))"
   ]
  },
  {
   "cell_type": "code",
   "execution_count": 5,
   "id": "895ebca5-02cb-4a6c-ba59-b9bd66b433e3",
   "metadata": {},
   "outputs": [
    {
     "name": "stderr",
     "output_type": "stream",
     "text": [
      "/home/yoonjeong.won/anaconda3/lib/python3.6/site-packages/numpy/core/fromnumeric.py:2580: FutureWarning: Method .ptp is deprecated and will be removed in a future version. Use numpy.ptp instead.\n",
      "  return ptp(axis=axis, out=out, **kwargs)\n"
     ]
    }
   ],
   "source": [
    "target1 = temp_1['평균기온(°C)']\n",
    "x_data = temp_1[['sinx/6','cosx/6','cosx/3']]\n",
    "x_data = sm.add_constant(x_data , has_constant = \"add\")"
   ]
  },
  {
   "cell_type": "code",
   "execution_count": 6,
   "id": "28d55011-d938-4c10-9e44-01d779d00f2c",
   "metadata": {},
   "outputs": [],
   "source": [
    "multi_model1 = sm.OLS(target1,x_data)\n",
    "fitted_multi_model1 = multi_model1.fit()"
   ]
  },
  {
   "cell_type": "code",
   "execution_count": 7,
   "id": "fa994c3e-023e-42f0-a420-9963031551a6",
   "metadata": {},
   "outputs": [],
   "source": [
    "y_pred1 =fitted_multi_model1.predict(x_data)"
   ]
  },
  {
   "cell_type": "code",
   "execution_count": 8,
   "id": "beeaa81d-6774-44f8-a642-aea008cd5f21",
   "metadata": {},
   "outputs": [],
   "source": [
    "x_new = np.column_stack([ sin((42+1)*pi/6), cos((42+1)*pi/6) , cos((42+1)*pi/3) ])\n",
    "x_new = sm.add_constant(x_new, has_constant= \"add\")"
   ]
  },
  {
   "cell_type": "code",
   "execution_count": 9,
   "id": "15f07a0f-28cc-430f-8f83-18139a1b3923",
   "metadata": {},
   "outputs": [
    {
     "data": {
      "text/plain": [
       "array([[ 1.       , -0.5      , -0.8660254,  0.5      ]])"
      ]
     },
     "execution_count": 9,
     "metadata": {},
     "output_type": "execute_result"
    }
   ],
   "source": [
    "x_new"
   ]
  },
  {
   "cell_type": "code",
   "execution_count": 10,
   "id": "6598598a-87fe-4239-b9e5-390cb3bbea60",
   "metadata": {},
   "outputs": [
    {
     "data": {
      "text/plain": [
       "array([25.80244986])"
      ]
     },
     "execution_count": 10,
     "metadata": {},
     "output_type": "execute_result"
    }
   ],
   "source": [
    "ynewpred1 = fitted_multi_model1.predict(x_new)\n",
    "ynewpred1"
   ]
  },
  {
   "cell_type": "code",
   "execution_count": 11,
   "id": "999a8a58-7a9b-4575-950d-c68783aed53c",
   "metadata": {},
   "outputs": [
    {
     "data": {
      "text/plain": [
       "[<matplotlib.lines.Line2D at 0x7f7bcbf827b8>]"
      ]
     },
     "execution_count": 11,
     "metadata": {},
     "output_type": "execute_result"
    },
    {
     "data": {
      "image/png": "[encoded data removed]",
      "text/plain": [
       "<Figure size 432x288 with 1 Axes>"
      ]
     },
     "metadata": {
      "needs_background": "light"
     },
     "output_type": "display_data"
    }
   ],
   "source": [
    "import matplotlib.pyplot as plt\n",
    "\n",
    "fig, ax = plt.subplots()\n",
    "ax.plot(temp_1['일시'] ,y_pred1,'o')\n",
    "ax.plot(temp_1['일시'], target1, 'b-')"
   ]
  },
  {
   "cell_type": "code",
   "execution_count": 12,
   "id": "8bd5f499-f226-4fee-8374-5333508a6745",
   "metadata": {},
   "outputs": [
    {
     "data": {
      "text/html": [
       "<table class=\"simpletable\">\n",
       "<caption>OLS Regression Results</caption>\n",
       "<tr>\n",
       "  <th>Dep. Variable:</th>        <td>평균기온(°C)</td>     <th>  R-squared:         </th> <td>   0.972</td>\n",
       "</tr>\n",
       "<tr>\n",
       "  <th>Model:</th>                   <td>OLS</td>       <th>  Adj. R-squared:    </th> <td>   0.970</td>\n",
       "</tr>\n",
       "<tr>\n",
       "  <th>Method:</th>             <td>Least Squares</td>  <th>  F-statistic:       </th> <td>   437.1</td>\n",
       "</tr>\n",
       "<tr>\n",
       "  <th>Date:</th>             <td>Mon, 13 Sep 2021</td> <th>  Prob (F-statistic):</th> <td>1.73e-29</td>\n",
       "</tr>\n",
       "<tr>\n",
       "  <th>Time:</th>                 <td>20:02:23</td>     <th>  Log-Likelihood:    </th> <td> -66.244</td>\n",
       "</tr>\n",
       "<tr>\n",
       "  <th>No. Observations:</th>      <td>    42</td>      <th>  AIC:               </th> <td>   140.5</td>\n",
       "</tr>\n",
       "<tr>\n",
       "  <th>Df Residuals:</th>          <td>    38</td>      <th>  BIC:               </th> <td>   147.4</td>\n",
       "</tr>\n",
       "<tr>\n",
       "  <th>Df Model:</th>              <td>     3</td>      <th>                     </th>     <td> </td>   \n",
       "</tr>\n",
       "<tr>\n",
       "  <th>Covariance Type:</th>      <td>nonrobust</td>    <th>                     </th>     <td> </td>   \n",
       "</tr>\n",
       "</table>\n",
       "<table class=\"simpletable\">\n",
       "<tr>\n",
       "     <td></td>       <th>coef</th>     <th>std err</th>      <th>t</th>      <th>P>|t|</th>  <th>[0.025</th>    <th>0.975]</th>  \n",
       "</tr>\n",
       "<tr>\n",
       "  <th>const</th>  <td>   16.8175</td> <td>    0.192</td> <td>   87.739</td> <td> 0.000</td> <td>   16.429</td> <td>   17.206</td>\n",
       "</tr>\n",
       "<tr>\n",
       "  <th>sinx/6</th> <td>   -6.7113</td> <td>    0.271</td> <td>  -24.720</td> <td> 0.000</td> <td>   -7.261</td> <td>   -6.162</td>\n",
       "</tr>\n",
       "<tr>\n",
       "  <th>cosx/6</th> <td>   -7.1113</td> <td>    0.269</td> <td>  -26.414</td> <td> 0.000</td> <td>   -7.656</td> <td>   -6.566</td>\n",
       "</tr>\n",
       "<tr>\n",
       "  <th>cosx/3</th> <td>   -1.0585</td> <td>    0.270</td> <td>   -3.926</td> <td> 0.000</td> <td>   -1.604</td> <td>   -0.513</td>\n",
       "</tr>\n",
       "</table>\n",
       "<table class=\"simpletable\">\n",
       "<tr>\n",
       "  <th>Omnibus:</th>       <td> 0.144</td> <th>  Durbin-Watson:     </th> <td>   1.749</td>\n",
       "</tr>\n",
       "<tr>\n",
       "  <th>Prob(Omnibus):</th> <td> 0.930</td> <th>  Jarque-Bera (JB):  </th> <td>   0.349</td>\n",
       "</tr>\n",
       "<tr>\n",
       "  <th>Skew:</th>          <td> 0.065</td> <th>  Prob(JB):          </th> <td>   0.840</td>\n",
       "</tr>\n",
       "<tr>\n",
       "  <th>Kurtosis:</th>      <td> 2.573</td> <th>  Cond. No.          </th> <td>    1.49</td>\n",
       "</tr>\n",
       "</table><br/><br/>Warnings:<br/>[1] Standard Errors assume that the covariance matrix of the errors is correctly specified."
      ],
      "text/plain": [
       "<class 'statsmodels.iolib.summary.Summary'>\n",
       "\"\"\"\n",
       "                            OLS Regression Results                            \n",
       "==============================================================================\n",
       "Dep. Variable:               평균기온(°C)   R-squared:                       0.972\n",
       "Model:                            OLS   Adj. R-squared:                  0.970\n",
       "Method:                 Least Squares   F-statistic:                     437.1\n",
       "Date:                Mon, 13 Sep 2021   Prob (F-statistic):           1.73e-29\n",
       "Time:                        20:02:23   Log-Likelihood:                -66.244\n",
       "No. Observations:                  42   AIC:                             140.5\n",
       "Df Residuals:                      38   BIC:                             147.4\n",
       "Df Model:                           3                                         \n",
       "Covariance Type:            nonrobust                                         \n",
       "==============================================================================\n",
       "                 coef    std err          t      P>|t|      [0.025      0.975]\n",
       "------------------------------------------------------------------------------\n",
       "const         16.8175      0.192     87.739      0.000      16.429      17.206\n",
       "sinx/6        -6.7113      0.271    -24.720      0.000      -7.261      -6.162\n",
       "cosx/6        -7.1113      0.269    -26.414      0.000      -7.656      -6.566\n",
       "cosx/3        -1.0585      0.270     -3.926      0.000      -1.604      -0.513\n",
       "==============================================================================\n",
       "Omnibus:                        0.144   Durbin-Watson:                   1.749\n",
       "Prob(Omnibus):                  0.930   Jarque-Bera (JB):                0.349\n",
       "Skew:                           0.065   Prob(JB):                        0.840\n",
       "Kurtosis:                       2.573   Cond. No.                         1.49\n",
       "==============================================================================\n",
       "\n",
       "Warnings:\n",
       "[1] Standard Errors assume that the covariance matrix of the errors is correctly specified.\n",
       "\"\"\""
      ]
     },
     "execution_count": 12,
     "metadata": {},
     "output_type": "execute_result"
    }
   ],
   "source": [
    "fitted_multi_model1.summary()"
   ]
  },
  {
   "cell_type": "code",
   "execution_count": 13,
   "id": "558eb800-5d29-4ad6-bdb9-e25c30c8e433",
   "metadata": {},
   "outputs": [],
   "source": [
    "temp_2 = weather[weather['지점명']=='서귀포']\n",
    "temp_2 = temp_2.drop(['지점','평균최고기온(°C)','평균최저기온(°C)','월합강수량(00~24h만)(mm)'],axis=1, inplace=False)\n",
    "temp_2 = temp_2.reset_index(drop=False)\n",
    "temp_2['sinx/6']= temp_2['index'].apply(lambda x: sin((x+1)*pi/6))\n",
    "temp_2['cosx/6']= temp_2['index'].apply(lambda x: cos((x+1)*pi/6))\n",
    "temp_2['sinx/3']= temp_2['index'].apply(lambda x: sin((x+1)*pi/3))\n",
    "temp_2['cosx/3']= temp_2['index'].apply(lambda x: cos((x+1)*pi/3))\n",
    "\n",
    "\n",
    "target2 = temp_2['평균기온(°C)']"
   ]
  },
  {
   "cell_type": "code",
   "execution_count": 14,
   "id": "f0648579-380f-4f44-867e-8d9adab34b28",
   "metadata": {},
   "outputs": [
    {
     "data": {
      "text/html": [
       "<table class=\"simpletable\">\n",
       "<caption>OLS Regression Results</caption>\n",
       "<tr>\n",
       "  <th>Dep. Variable:</th>        <td>평균기온(°C)</td>     <th>  R-squared:         </th> <td>   0.970</td>\n",
       "</tr>\n",
       "<tr>\n",
       "  <th>Model:</th>                   <td>OLS</td>       <th>  Adj. R-squared:    </th> <td>   0.967</td>\n",
       "</tr>\n",
       "<tr>\n",
       "  <th>Method:</th>             <td>Least Squares</td>  <th>  F-statistic:       </th> <td>   403.6</td>\n",
       "</tr>\n",
       "<tr>\n",
       "  <th>Date:</th>             <td>Mon, 13 Sep 2021</td> <th>  Prob (F-statistic):</th> <td>7.51e-29</td>\n",
       "</tr>\n",
       "<tr>\n",
       "  <th>Time:</th>                 <td>20:02:45</td>     <th>  Log-Likelihood:    </th> <td> -63.832</td>\n",
       "</tr>\n",
       "<tr>\n",
       "  <th>No. Observations:</th>      <td>    42</td>      <th>  AIC:               </th> <td>   135.7</td>\n",
       "</tr>\n",
       "<tr>\n",
       "  <th>Df Residuals:</th>          <td>    38</td>      <th>  BIC:               </th> <td>   142.6</td>\n",
       "</tr>\n",
       "<tr>\n",
       "  <th>Df Model:</th>              <td>     3</td>      <th>                     </th>     <td> </td>   \n",
       "</tr>\n",
       "<tr>\n",
       "  <th>Covariance Type:</th>      <td>nonrobust</td>    <th>                     </th>     <td> </td>   \n",
       "</tr>\n",
       "</table>\n",
       "<table class=\"simpletable\">\n",
       "<tr>\n",
       "     <td></td>       <th>coef</th>     <th>std err</th>      <th>t</th>      <th>P>|t|</th>  <th>[0.025</th>    <th>0.975]</th>  \n",
       "</tr>\n",
       "<tr>\n",
       "  <th>const</th>  <td>   16.9917</td> <td>    0.181</td> <td>   93.886</td> <td> 0.000</td> <td>   16.625</td> <td>   17.358</td>\n",
       "</tr>\n",
       "<tr>\n",
       "  <th>sinx/6</th> <td>   -6.1275</td> <td>    0.256</td> <td>  -23.903</td> <td> 0.000</td> <td>   -6.646</td> <td>   -5.609</td>\n",
       "</tr>\n",
       "<tr>\n",
       "  <th>cosx/6</th> <td>   -6.4168</td> <td>    0.254</td> <td>  -25.243</td> <td> 0.000</td> <td>   -6.931</td> <td>   -5.902</td>\n",
       "</tr>\n",
       "<tr>\n",
       "  <th>cosx/3</th> <td>   -0.9565</td> <td>    0.255</td> <td>   -3.757</td> <td> 0.001</td> <td>   -1.472</td> <td>   -0.441</td>\n",
       "</tr>\n",
       "</table>\n",
       "<table class=\"simpletable\">\n",
       "<tr>\n",
       "  <th>Omnibus:</th>       <td> 1.782</td> <th>  Durbin-Watson:     </th> <td>   1.620</td>\n",
       "</tr>\n",
       "<tr>\n",
       "  <th>Prob(Omnibus):</th> <td> 0.410</td> <th>  Jarque-Bera (JB):  </th> <td>   1.690</td>\n",
       "</tr>\n",
       "<tr>\n",
       "  <th>Skew:</th>          <td>-0.409</td> <th>  Prob(JB):          </th> <td>   0.430</td>\n",
       "</tr>\n",
       "<tr>\n",
       "  <th>Kurtosis:</th>      <td> 2.455</td> <th>  Cond. No.          </th> <td>    1.49</td>\n",
       "</tr>\n",
       "</table><br/><br/>Warnings:<br/>[1] Standard Errors assume that the covariance matrix of the errors is correctly specified."
      ],
      "text/plain": [
       "<class 'statsmodels.iolib.summary.Summary'>\n",
       "\"\"\"\n",
       "                            OLS Regression Results                            \n",
       "==============================================================================\n",
       "Dep. Variable:               평균기온(°C)   R-squared:                       0.970\n",
       "Model:                            OLS   Adj. R-squared:                  0.967\n",
       "Method:                 Least Squares   F-statistic:                     403.6\n",
       "Date:                Mon, 13 Sep 2021   Prob (F-statistic):           7.51e-29\n",
       "Time:                        20:02:45   Log-Likelihood:                -63.832\n",
       "No. Observations:                  42   AIC:                             135.7\n",
       "Df Residuals:                      38   BIC:                             142.6\n",
       "Df Model:                           3                                         \n",
       "Covariance Type:            nonrobust                                         \n",
       "==============================================================================\n",
       "                 coef    std err          t      P>|t|      [0.025      0.975]\n",
       "------------------------------------------------------------------------------\n",
       "const         16.9917      0.181     93.886      0.000      16.625      17.358\n",
       "sinx/6        -6.1275      0.256    -23.903      0.000      -6.646      -5.609\n",
       "cosx/6        -6.4168      0.254    -25.243      0.000      -6.931      -5.902\n",
       "cosx/3        -0.9565      0.255     -3.757      0.001      -1.472      -0.441\n",
       "==============================================================================\n",
       "Omnibus:                        1.782   Durbin-Watson:                   1.620\n",
       "Prob(Omnibus):                  0.410   Jarque-Bera (JB):                1.690\n",
       "Skew:                          -0.409   Prob(JB):                        0.430\n",
       "Kurtosis:                       2.455   Cond. No.                         1.49\n",
       "==============================================================================\n",
       "\n",
       "Warnings:\n",
       "[1] Standard Errors assume that the covariance matrix of the errors is correctly specified.\n",
       "\"\"\""
      ]
     },
     "execution_count": 14,
     "metadata": {},
     "output_type": "execute_result"
    }
   ],
   "source": [
    "multi_model2 = sm.OLS(target2, x_data)\n",
    "fitted_multi_model2 = multi_model2.fit()\n",
    "fitted_multi_model2.summary()"
   ]
  },
  {
   "cell_type": "code",
   "execution_count": 15,
   "id": "4c09ef53-7515-4778-9d4f-6d0effb9914f",
   "metadata": {},
   "outputs": [
    {
     "data": {
      "text/plain": [
       "array([25.13429256])"
      ]
     },
     "execution_count": 15,
     "metadata": {},
     "output_type": "execute_result"
    }
   ],
   "source": [
    "ynewpred2 = fitted_multi_model2.predict(x_new)\n",
    "ynewpred2"
   ]
  },
  {
   "cell_type": "code",
   "execution_count": 16,
   "id": "d7e04704-40cb-4753-9d26-070127f0044c",
   "metadata": {},
   "outputs": [],
   "source": [
    "y_pred2 =fitted_multi_model2.predict(x_data)"
   ]
  },
  {
   "cell_type": "code",
   "execution_count": 17,
   "id": "ef57ea44-dc1d-4630-bf92-ac2799399f26",
   "metadata": {},
   "outputs": [
    {
     "data": {
      "text/plain": [
       "[<matplotlib.lines.Line2D at 0x7f7bcbe0b198>]"
      ]
     },
     "execution_count": 17,
     "metadata": {},
     "output_type": "execute_result"
    },
    {
     "data": {
      "image/png": "[encoded data removed]",
      "text/plain": [
       "<Figure size 432x288 with 1 Axes>"
      ]
     },
     "metadata": {
      "needs_background": "light"
     },
     "output_type": "display_data"
    }
   ],
   "source": [
    "import matplotlib.pyplot as plt\n",
    "\n",
    "fig, ax = plt.subplots()\n",
    "ax.plot(temp_2['일시'] ,y_pred2,'o')\n",
    "ax.plot(temp_2['일시'], target2, 'b-')"
   ]
  },
  {
   "cell_type": "code",
   "execution_count": 18,
   "id": "ec9538ba-c54c-4503-82ac-4c11e368fae2",
   "metadata": {},
   "outputs": [],
   "source": [
    "temp_3 = weather[weather['지점명']=='고산']\n",
    "temp_3 = temp_3.drop(['지점','평균최고기온(°C)','평균최저기온(°C)','월합강수량(00~24h만)(mm)'],axis=1, inplace=False)\n",
    "temp_3 = temp_3.reset_index(drop=False)\n",
    "temp_3['sinx/6']= temp_3['index'].apply(lambda x: sin((x+1)*pi/6))\n",
    "temp_3['cosx/6']= temp_3['index'].apply(lambda x: cos((x+1)*pi/6))\n",
    "temp_3['sinx/3']= temp_3['index'].apply(lambda x: sin((x+1)*pi/3))\n",
    "temp_3['cosx/3']= temp_3['index'].apply(lambda x: cos((x+1)*pi/3))\n",
    "\n",
    "\n",
    "target3 = temp_3['평균기온(°C)']"
   ]
  },
  {
   "cell_type": "code",
   "execution_count": 19,
   "id": "aafd12e0-286b-4acd-805c-1fe0ac2bf7ff",
   "metadata": {
    "tags": []
   },
   "outputs": [
    {
     "data": {
      "text/html": [
       "<table class=\"simpletable\">\n",
       "<caption>OLS Regression Results</caption>\n",
       "<tr>\n",
       "  <th>Dep. Variable:</th>        <td>평균기온(°C)</td>     <th>  R-squared:         </th> <td>   0.972</td>\n",
       "</tr>\n",
       "<tr>\n",
       "  <th>Model:</th>                   <td>OLS</td>       <th>  Adj. R-squared:    </th> <td>   0.970</td>\n",
       "</tr>\n",
       "<tr>\n",
       "  <th>Method:</th>             <td>Least Squares</td>  <th>  F-statistic:       </th> <td>   447.6</td>\n",
       "</tr>\n",
       "<tr>\n",
       "  <th>Date:</th>             <td>Mon, 13 Sep 2021</td> <th>  Prob (F-statistic):</th> <td>1.12e-29</td>\n",
       "</tr>\n",
       "<tr>\n",
       "  <th>Time:</th>                 <td>20:03:02</td>     <th>  Log-Likelihood:    </th> <td> -63.680</td>\n",
       "</tr>\n",
       "<tr>\n",
       "  <th>No. Observations:</th>      <td>    42</td>      <th>  AIC:               </th> <td>   135.4</td>\n",
       "</tr>\n",
       "<tr>\n",
       "  <th>Df Residuals:</th>          <td>    38</td>      <th>  BIC:               </th> <td>   142.3</td>\n",
       "</tr>\n",
       "<tr>\n",
       "  <th>Df Model:</th>              <td>     3</td>      <th>                     </th>     <td> </td>   \n",
       "</tr>\n",
       "<tr>\n",
       "  <th>Covariance Type:</th>      <td>nonrobust</td>    <th>                     </th>     <td> </td>   \n",
       "</tr>\n",
       "</table>\n",
       "<table class=\"simpletable\">\n",
       "<tr>\n",
       "     <td></td>       <th>coef</th>     <th>std err</th>      <th>t</th>      <th>P>|t|</th>  <th>[0.025</th>    <th>0.975]</th>  \n",
       "</tr>\n",
       "<tr>\n",
       "  <th>const</th>  <td>   16.2360</td> <td>    0.180</td> <td>   90.036</td> <td> 0.000</td> <td>   15.871</td> <td>   16.601</td>\n",
       "</tr>\n",
       "<tr>\n",
       "  <th>sinx/6</th> <td>   -6.6943</td> <td>    0.255</td> <td>  -26.209</td> <td> 0.000</td> <td>   -7.211</td> <td>   -6.177</td>\n",
       "</tr>\n",
       "<tr>\n",
       "  <th>cosx/6</th> <td>   -6.4720</td> <td>    0.253</td> <td>  -25.553</td> <td> 0.000</td> <td>   -6.985</td> <td>   -5.959</td>\n",
       "</tr>\n",
       "<tr>\n",
       "  <th>cosx/3</th> <td>   -1.0365</td> <td>    0.254</td> <td>   -4.086</td> <td> 0.000</td> <td>   -1.550</td> <td>   -0.523</td>\n",
       "</tr>\n",
       "</table>\n",
       "<table class=\"simpletable\">\n",
       "<tr>\n",
       "  <th>Omnibus:</th>       <td> 1.723</td> <th>  Durbin-Watson:     </th> <td>   1.540</td>\n",
       "</tr>\n",
       "<tr>\n",
       "  <th>Prob(Omnibus):</th> <td> 0.422</td> <th>  Jarque-Bera (JB):  </th> <td>   1.155</td>\n",
       "</tr>\n",
       "<tr>\n",
       "  <th>Skew:</th>          <td>-0.079</td> <th>  Prob(JB):          </th> <td>   0.561</td>\n",
       "</tr>\n",
       "<tr>\n",
       "  <th>Kurtosis:</th>      <td> 2.203</td> <th>  Cond. No.          </th> <td>    1.49</td>\n",
       "</tr>\n",
       "</table><br/><br/>Warnings:<br/>[1] Standard Errors assume that the covariance matrix of the errors is correctly specified."
      ],
      "text/plain": [
       "<class 'statsmodels.iolib.summary.Summary'>\n",
       "\"\"\"\n",
       "                            OLS Regression Results                            \n",
       "==============================================================================\n",
       "Dep. Variable:               평균기온(°C)   R-squared:                       0.972\n",
       "Model:                            OLS   Adj. R-squared:                  0.970\n",
       "Method:                 Least Squares   F-statistic:                     447.6\n",
       "Date:                Mon, 13 Sep 2021   Prob (F-statistic):           1.12e-29\n",
       "Time:                        20:03:02   Log-Likelihood:                -63.680\n",
       "No. Observations:                  42   AIC:                             135.4\n",
       "Df Residuals:                      38   BIC:                             142.3\n",
       "Df Model:                           3                                         \n",
       "Covariance Type:            nonrobust                                         \n",
       "==============================================================================\n",
       "                 coef    std err          t      P>|t|      [0.025      0.975]\n",
       "------------------------------------------------------------------------------\n",
       "const         16.2360      0.180     90.036      0.000      15.871      16.601\n",
       "sinx/6        -6.6943      0.255    -26.209      0.000      -7.211      -6.177\n",
       "cosx/6        -6.4720      0.253    -25.553      0.000      -6.985      -5.959\n",
       "cosx/3        -1.0365      0.254     -4.086      0.000      -1.550      -0.523\n",
       "==============================================================================\n",
       "Omnibus:                        1.723   Durbin-Watson:                   1.540\n",
       "Prob(Omnibus):                  0.422   Jarque-Bera (JB):                1.155\n",
       "Skew:                          -0.079   Prob(JB):                        0.561\n",
       "Kurtosis:                       2.203   Cond. No.                         1.49\n",
       "==============================================================================\n",
       "\n",
       "Warnings:\n",
       "[1] Standard Errors assume that the covariance matrix of the errors is correctly specified.\n",
       "\"\"\""
      ]
     },
     "execution_count": 19,
     "metadata": {},
     "output_type": "execute_result"
    }
   ],
   "source": [
    "multi_model3 = sm.OLS(target3, x_data)\n",
    "fitted_multi_model3 = multi_model3.fit()\n",
    "\n",
    "fitted_multi_model3.summary()"
   ]
  },
  {
   "cell_type": "code",
   "execution_count": 20,
   "id": "cba3bde9-7fd6-402a-9df0-0d5ffc90778a",
   "metadata": {},
   "outputs": [
    {
     "data": {
      "text/plain": [
       "array([24.66981087])"
      ]
     },
     "execution_count": 20,
     "metadata": {},
     "output_type": "execute_result"
    }
   ],
   "source": [
    "ynewpred3 = fitted_multi_model3.predict(x_new)\n",
    "ynewpred3"
   ]
  },
  {
   "cell_type": "code",
   "execution_count": 21,
   "id": "b406ad49-0f04-4da0-908d-25eb10ec4d2b",
   "metadata": {},
   "outputs": [],
   "source": [
    "temp_4 = weather[weather['지점명']=='성산']\n",
    "temp_4 = temp_4.drop(['지점','평균최고기온(°C)','평균최저기온(°C)','월합강수량(00~24h만)(mm)'],axis=1, inplace=False)\n",
    "temp_4 = temp_4.reset_index(drop=False)\n",
    "temp_4['sinx/6']= temp_4['index'].apply(lambda x: sin((x+1)*pi/6))\n",
    "temp_4['cosx/6']= temp_4['index'].apply(lambda x: cos((x+1)*pi/6))\n",
    "temp_4['sinx/3']= temp_4['index'].apply(lambda x: sin((x+1)*pi/3))\n",
    "temp_4['cosx/3']= temp_4['index'].apply(lambda x: cos((x+1)*pi/3))\n",
    "\n",
    "\n",
    "target4 = temp_4['평균기온(°C)']"
   ]
  },
  {
   "cell_type": "code",
   "execution_count": 22,
   "id": "1005ec1b-874d-47d5-87a0-8e2aa730b66d",
   "metadata": {},
   "outputs": [
    {
     "data": {
      "text/html": [
       "<table class=\"simpletable\">\n",
       "<caption>OLS Regression Results</caption>\n",
       "<tr>\n",
       "  <th>Dep. Variable:</th>        <td>평균기온(°C)</td>     <th>  R-squared:         </th> <td>   0.973</td>\n",
       "</tr>\n",
       "<tr>\n",
       "  <th>Model:</th>                   <td>OLS</td>       <th>  Adj. R-squared:    </th> <td>   0.971</td>\n",
       "</tr>\n",
       "<tr>\n",
       "  <th>Method:</th>             <td>Least Squares</td>  <th>  F-statistic:       </th> <td>   461.7</td>\n",
       "</tr>\n",
       "<tr>\n",
       "  <th>Date:</th>             <td>Mon, 13 Sep 2021</td> <th>  Prob (F-statistic):</th> <td>6.29e-30</td>\n",
       "</tr>\n",
       "<tr>\n",
       "  <th>Time:</th>                 <td>20:03:21</td>     <th>  Log-Likelihood:    </th> <td> -64.644</td>\n",
       "</tr>\n",
       "<tr>\n",
       "  <th>No. Observations:</th>      <td>    42</td>      <th>  AIC:               </th> <td>   137.3</td>\n",
       "</tr>\n",
       "<tr>\n",
       "  <th>Df Residuals:</th>          <td>    38</td>      <th>  BIC:               </th> <td>   144.2</td>\n",
       "</tr>\n",
       "<tr>\n",
       "  <th>Df Model:</th>              <td>     3</td>      <th>                     </th>     <td> </td>   \n",
       "</tr>\n",
       "<tr>\n",
       "  <th>Covariance Type:</th>      <td>nonrobust</td>    <th>                     </th>     <td> </td>   \n",
       "</tr>\n",
       "</table>\n",
       "<table class=\"simpletable\">\n",
       "<tr>\n",
       "     <td></td>       <th>coef</th>     <th>std err</th>      <th>t</th>      <th>P>|t|</th>  <th>[0.025</th>    <th>0.975]</th>  \n",
       "</tr>\n",
       "<tr>\n",
       "  <th>const</th>  <td>   16.0201</td> <td>    0.185</td> <td>   86.823</td> <td> 0.000</td> <td>   15.647</td> <td>   16.394</td>\n",
       "</tr>\n",
       "<tr>\n",
       "  <th>sinx/6</th> <td>   -6.6172</td> <td>    0.261</td> <td>  -25.319</td> <td> 0.000</td> <td>   -7.146</td> <td>   -6.088</td>\n",
       "</tr>\n",
       "<tr>\n",
       "  <th>cosx/6</th> <td>   -7.0504</td> <td>    0.259</td> <td>  -27.204</td> <td> 0.000</td> <td>   -7.575</td> <td>   -6.526</td>\n",
       "</tr>\n",
       "<tr>\n",
       "  <th>cosx/3</th> <td>   -1.1709</td> <td>    0.260</td> <td>   -4.511</td> <td> 0.000</td> <td>   -1.696</td> <td>   -0.645</td>\n",
       "</tr>\n",
       "</table>\n",
       "<table class=\"simpletable\">\n",
       "<tr>\n",
       "  <th>Omnibus:</th>       <td> 0.558</td> <th>  Durbin-Watson:     </th> <td>   1.548</td>\n",
       "</tr>\n",
       "<tr>\n",
       "  <th>Prob(Omnibus):</th> <td> 0.756</td> <th>  Jarque-Bera (JB):  </th> <td>   0.643</td>\n",
       "</tr>\n",
       "<tr>\n",
       "  <th>Skew:</th>          <td>-0.244</td> <th>  Prob(JB):          </th> <td>   0.725</td>\n",
       "</tr>\n",
       "<tr>\n",
       "  <th>Kurtosis:</th>      <td> 2.640</td> <th>  Cond. No.          </th> <td>    1.49</td>\n",
       "</tr>\n",
       "</table><br/><br/>Warnings:<br/>[1] Standard Errors assume that the covariance matrix of the errors is correctly specified."
      ],
      "text/plain": [
       "<class 'statsmodels.iolib.summary.Summary'>\n",
       "\"\"\"\n",
       "                            OLS Regression Results                            \n",
       "==============================================================================\n",
       "Dep. Variable:               평균기온(°C)   R-squared:                       0.973\n",
       "Model:                            OLS   Adj. R-squared:                  0.971\n",
       "Method:                 Least Squares   F-statistic:                     461.7\n",
       "Date:                Mon, 13 Sep 2021   Prob (F-statistic):           6.29e-30\n",
       "Time:                        20:03:21   Log-Likelihood:                -64.644\n",
       "No. Observations:                  42   AIC:                             137.3\n",
       "Df Residuals:                      38   BIC:                             144.2\n",
       "Df Model:                           3                                         \n",
       "Covariance Type:            nonrobust                                         \n",
       "==============================================================================\n",
       "                 coef    std err          t      P>|t|      [0.025      0.975]\n",
       "------------------------------------------------------------------------------\n",
       "const         16.0201      0.185     86.823      0.000      15.647      16.394\n",
       "sinx/6        -6.6172      0.261    -25.319      0.000      -7.146      -6.088\n",
       "cosx/6        -7.0504      0.259    -27.204      0.000      -7.575      -6.526\n",
       "cosx/3        -1.1709      0.260     -4.511      0.000      -1.696      -0.645\n",
       "==============================================================================\n",
       "Omnibus:                        0.558   Durbin-Watson:                   1.548\n",
       "Prob(Omnibus):                  0.756   Jarque-Bera (JB):                0.643\n",
       "Skew:                          -0.244   Prob(JB):                        0.725\n",
       "Kurtosis:                       2.640   Cond. No.                         1.49\n",
       "==============================================================================\n",
       "\n",
       "Warnings:\n",
       "[1] Standard Errors assume that the covariance matrix of the errors is correctly specified.\n",
       "\"\"\""
      ]
     },
     "execution_count": 22,
     "metadata": {},
     "output_type": "execute_result"
    }
   ],
   "source": [
    "multi_model4 = sm.OLS(target4, x_data)\n",
    "fitted_multi_model4 = multi_model4.fit()\n",
    "fitted_multi_model4.summary()"
   ]
  },
  {
   "cell_type": "code",
   "execution_count": 23,
   "id": "d1d75baa-a4fa-452d-9233-77ab9ca0163f",
   "metadata": {},
   "outputs": [
    {
     "data": {
      "text/plain": [
       "array([24.84907705])"
      ]
     },
     "execution_count": 23,
     "metadata": {},
     "output_type": "execute_result"
    }
   ],
   "source": [
    "ynewpred4 = fitted_multi_model4.predict(x_new)\n",
    "ynewpred4"
   ]
  },
  {
   "cell_type": "code",
   "execution_count": null,
   "id": "e551e5ef-5ced-46dd-9c66-b08fa2d7bf03",
   "metadata": {},
   "outputs": [],
   "source": [
    "data_jeju = "
   ]
  }
 ],
 "metadata": {
  "kernelspec": {
   "display_name": "Python 3",
   "language": "python",
   "name": "python3"
  },
  "language_info": {
   "codemirror_mode": {
    "name": "ipython",
    "version": 3
   },
   "file_extension": ".py",
   "mimetype": "text/x-python",
   "name": "python",
   "nbconvert_exporter": "python",
   "pygments_lexer": "ipython3",
   "version": "3.6.10"
  }
 },
 "nbformat": 4,
 "nbformat_minor": 5
}
