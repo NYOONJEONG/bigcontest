{
 "cells": [
  {
   "cell_type": "code",
   "execution_count": 77,
   "id": "8a422c40-e74f-4d79-9a6d-49aac07a104c",
   "metadata": {},
   "outputs": [],
   "source": [
    "import numpy as np\n",
    "import pandas as pd\n",
    "from pandas import DataFrame\n",
    "from pandas import Series\n",
    "import seaborn as sns\n",
    "from tqdm import tqdm\n",
    "import matplotlib.pyplot as plt\n",
    "import matplotlib.font_manager as fm\n",
    "font_path = 'AppleGothic.ttf'\n",
    "fontprop = fm.FontProperties(fname=font_path, size=18)\n",
    "font_name = fm.FontProperties(fname=font_path).get_name()"
   ]
  },
  {
   "cell_type": "code",
   "execution_count": 78,
   "id": "ac3ae3a3-0615-424a-bbc7-99c00c4e3038",
   "metadata": {},
   "outputs": [],
   "source": [
    "weather = pd.read_csv(\"제주기상자료(월단위).csv\", encoding=\"cp949\")"
   ]
  },
  {
   "cell_type": "code",
   "execution_count": 79,
   "id": "9a8b9999-85ae-4002-a958-4f207a782793",
   "metadata": {},
   "outputs": [],
   "source": [
    "jeju = weather[weather['지점명']=='제주']\n",
    "gosan = weather[weather['지점명']=='고산']\n",
    "seongsan = weather[weather['지점명']=='성산']\n",
    "seogwipo = weather[weather['지점명']=='서귀포']"
   ]
  },
  {
   "cell_type": "code",
   "execution_count": 80,
   "id": "338a5fe0-ca92-4a93-a501-6f52afa7eb0c",
   "metadata": {},
   "outputs": [],
   "source": [
    "jeju_temp = jeju.drop(['지점','지점명','평균최고기온(°C)','평균최저기온(°C)','월합강수량(00~24h만)(mm)'], axis=1, inplace=False)\n",
    "gosan_temp = gosan.drop(['지점','지점명','평균최고기온(°C)','평균최저기온(°C)','월합강수량(00~24h만)(mm)'], axis=1, inplace=False)\n",
    "seongsan_temp = seongsan.drop(['지점','지점명','평균최고기온(°C)','평균최저기온(°C)','월합강수량(00~24h만)(mm)'], axis=1, inplace=False)\n",
    "seogwipo_temp = seogwipo.drop(['지점','지점명','평균최고기온(°C)','평균최저기온(°C)','월합강수량(00~24h만)(mm)'], axis=1, inplace=False)"
   ]
  },
  {
   "cell_type": "code",
   "execution_count": 81,
   "id": "2daf1ba7-f6ca-424e-b398-1e1ac5dc8d74",
   "metadata": {},
   "outputs": [],
   "source": [
    "from statsmodels.tsa.stattools import adfuller\n",
    "\n",
    "def adf_test(df):\n",
    "    result = adfuller(df.values)\n",
    "    print('ADF Statistics: %f' % result[0])\n",
    "    print('p-value: %f' %result[1])\n",
    "    print('Critical values:')\n",
    "    for key, value in result[4].items():\n",
    "        print('\\t%s: %.3f' %(key, value))"
   ]
  },
  {
   "cell_type": "code",
   "execution_count": 82,
   "id": "76575f1e-ec67-4458-bce3-04ea99879bdb",
   "metadata": {},
   "outputs": [
    {
     "name": "stdout",
     "output_type": "stream",
     "text": [
      "ADF Statistics: -5.936120\n",
      "p-value: 0.000000\n",
      "Critical values:\n",
      "\t1%: -3.639\n",
      "\t5%: -2.951\n",
      "\t10%: -2.614\n"
     ]
    }
   ],
   "source": [
    "adf_test(jeju_temp['평균기온(°C)'])"
   ]
  },
  {
   "cell_type": "code",
   "execution_count": 83,
   "id": "1c07428e-b891-4f84-8ecd-48bdb643bc4c",
   "metadata": {},
   "outputs": [
    {
     "name": "stdout",
     "output_type": "stream",
     "text": [
      "ADF Statistics: -5.893461\n",
      "p-value: 0.000000\n",
      "Critical values:\n",
      "\t1%: -3.639\n",
      "\t5%: -2.951\n",
      "\t10%: -2.614\n"
     ]
    }
   ],
   "source": [
    "adf_test(gosan_temp['평균기온(°C)'])"
   ]
  },
  {
   "cell_type": "code",
   "execution_count": 84,
   "id": "048a2c02-b64c-43c1-9b26-c695de584231",
   "metadata": {},
   "outputs": [
    {
     "name": "stdout",
     "output_type": "stream",
     "text": [
      "ADF Statistics: -5.448488\n",
      "p-value: 0.000003\n",
      "Critical values:\n",
      "\t1%: -3.639\n",
      "\t5%: -2.951\n",
      "\t10%: -2.614\n"
     ]
    }
   ],
   "source": [
    "adf_test(seongsan_temp['평균기온(°C)'])"
   ]
  },
  {
   "cell_type": "code",
   "execution_count": 85,
   "id": "b8354e23-b064-450c-8cea-38d99714da30",
   "metadata": {},
   "outputs": [
    {
     "name": "stdout",
     "output_type": "stream",
     "text": [
      "ADF Statistics: -5.107110\n",
      "p-value: 0.000014\n",
      "Critical values:\n",
      "\t1%: -3.639\n",
      "\t5%: -2.951\n",
      "\t10%: -2.614\n"
     ]
    }
   ],
   "source": [
    "adf_test(seogwipo_temp['평균기온(°C)'])"
   ]
  },
  {
   "cell_type": "code",
   "execution_count": 86,
   "id": "152d9fe7-dcf6-4baa-8d7c-8e6816a95ca8",
   "metadata": {},
   "outputs": [
    {
     "name": "stdout",
     "output_type": "stream",
     "text": [
      "ADF Statistics: -6.084649\n",
      "p-value: 0.000000\n",
      "Critical values:\n",
      "\t1%: -3.633\n",
      "\t5%: -2.949\n",
      "\t10%: -2.613\n"
     ]
    }
   ],
   "source": [
    "new_row= {'일시': '2021-07', '평균기온(°C)': 25.8}\n",
    "jeju_temp_new = jeju_temp.append(new_row, ignore_index=True)\n",
    "adf_test(jeju_temp_new['평균기온(°C)'])"
   ]
  },
  {
   "cell_type": "code",
   "execution_count": 87,
   "id": "38eda538-77ae-4510-abaf-3b9ecaa5124f",
   "metadata": {},
   "outputs": [
    {
     "name": "stdout",
     "output_type": "stream",
     "text": [
      "ADF Statistics: -5.253196\n",
      "p-value: 0.000007\n",
      "Critical values:\n",
      "\t1%: -3.633\n",
      "\t5%: -2.949\n",
      "\t10%: -2.613\n"
     ]
    }
   ],
   "source": [
    "new_row= {'일시': '2021-07', '평균기온(°C)':25.1}\n",
    "seogwipo_temp_new = seogwipo_temp.append(new_row, ignore_index=True)\n",
    "adf_test(seogwipo_temp_new['평균기온(°C)'])"
   ]
  },
  {
   "cell_type": "code",
   "execution_count": 88,
   "id": "befd93a8-d90f-4060-96a8-3f9736203a55",
   "metadata": {},
   "outputs": [
    {
     "name": "stdout",
     "output_type": "stream",
     "text": [
      "ADF Statistics: -5.977422\n",
      "p-value: 0.000000\n",
      "Critical values:\n",
      "\t1%: -3.633\n",
      "\t5%: -2.949\n",
      "\t10%: -2.613\n"
     ]
    }
   ],
   "source": [
    "new_row= {'일시': '2021-07', '평균기온(°C)':24.7}\n",
    "gosan_temp_new = gosan_temp.append(new_row, ignore_index=True)\n",
    "adf_test(gosan_temp_new['평균기온(°C)'])"
   ]
  },
  {
   "cell_type": "code",
   "execution_count": 89,
   "id": "9a48e196-713a-48be-ac7e-95ed5ef53a18",
   "metadata": {},
   "outputs": [
    {
     "name": "stdout",
     "output_type": "stream",
     "text": [
      "ADF Statistics: -5.552637\n",
      "p-value: 0.000002\n",
      "Critical values:\n",
      "\t1%: -3.633\n",
      "\t5%: -2.949\n",
      "\t10%: -2.613\n"
     ]
    }
   ],
   "source": [
    "new_row= {'일시': '2021-07', '평균기온(°C)':24.8}\n",
    "seongsan_temp_new = seongsan_temp.append(new_row, ignore_index=True)\n",
    "adf_test(songsan_temp_new['평균기온(°C)'])"
   ]
  },
  {
   "cell_type": "code",
   "execution_count": 74,
   "id": "aa24e1df-8552-4dbd-a888-7dd73c1ba6e6",
   "metadata": {},
   "outputs": [],
   "source": [
    "jeju_temp_new.to_csv(\"제주 관측지 기온.csv\", index=False, encoding='cp949')"
   ]
  },
  {
   "cell_type": "code",
   "execution_count": 75,
   "id": "afac6857-21c6-4f00-89ef-e0fcc9c95fad",
   "metadata": {},
   "outputs": [],
   "source": [
    "seogwipo_temp_new.to_csv(\"서귀포 관측지 기온.csv\", index=False, encoding='cp949')\n",
    "gosan_temp_new.to_csv(\"고산 관측지 기온.csv\", index=False, encoding='cp949')\n",
    "seongsan_temp_new.to_csv(\"성산 관측지 기온.csv\", index=False, encoding='cp949')"
   ]
  },
  {
   "cell_type": "code",
   "execution_count": 76,
   "id": "a2fc8a32-808f-47ae-9c7a-ff1e18b0a079",
   "metadata": {},
   "outputs": [],
   "source": [
    "jeju_temp.to_csv(\"jeju_temp.csv\",index=False, encoding='cp949' )\n",
    "seogwipo_temp.to_csv(\"seogwipo_temp.csv\", index=False, encoding='cp949')\n",
    "gosan_temp.to_csv(\"gosan_temp.csv\", index=False, encoding='cp949')\n",
    "seongsan_temp.to_csv(\"seongsan_temp.csv\", index=False, encoding='cp949')"
   ]
  },
  {
   "cell_type": "code",
   "execution_count": null,
   "id": "15d2fbec-1dfc-4bec-9087-c079849a0842",
   "metadata": {},
   "outputs": [],
   "source": []
  }
 ],
 "metadata": {
  "kernelspec": {
   "display_name": "Python 3",
   "language": "python",
   "name": "python3"
  },
  "language_info": {
   "codemirror_mode": {
    "name": "ipython",
    "version": 3
   },
   "file_extension": ".py",
   "mimetype": "text/x-python",
   "name": "python",
   "nbconvert_exporter": "python",
   "pygments_lexer": "ipython3",
   "version": "3.6.10"
  }
 },
 "nbformat": 4,
 "nbformat_minor": 5
}
