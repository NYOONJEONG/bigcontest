{
 "cells": [
  {
   "cell_type": "code",
   "execution_count": null,
   "id": "fdc09cba",
   "metadata": {},
   "outputs": [],
   "source": [
    "import pandas as pd\n",
    "data1 = pd.read_csv('./01_제공데이터_update(210811)/01_음식물쓰레기_FOOD_WASTE_210811_update.csv', encoding='cp949')\n",
    "data2 = pd.read_csv('./01_제공데이터_update(210811)/02-1_내국인유동인구_KOREAN.csv', encoding='cp949')"
   ]
  },
  {
   "cell_type": "code",
   "execution_count": null,
   "id": "78fc3c36",
   "metadata": {},
   "outputs": [],
   "source": [
    "import pandas as pd\n",
    "import numpy as np\n",
    "import seaborn as sns\n",
    "from tqdm import tqdm\n",
    "import matplotlib.pyplot as plt"
   ]
  },
  {
   "cell_type": "code",
   "execution_count": null,
   "id": "acca7d9e",
   "metadata": {},
   "outputs": [],
   "source": [
    "def get_year_month(x):\n",
    "    return x[0:7]"
   ]
  },
  {
   "cell_type": "code",
   "execution_count": null,
   "id": "355247fe",
   "metadata": {},
   "outputs": [],
   "source": [
    "data1['year_month'] = data1['base_date'].apply(lambda x: get_year_month(x))\n",
    "data2['year_month'] = data2['base_date'].apply(lambda x: get_year_month(x))"
   ]
  },
  {
   "cell_type": "code",
   "execution_count": null,
   "id": "80aaaafc",
   "metadata": {},
   "outputs": [],
   "source": [
    "temp1 = data1.copy()\n",
    "temp1 = temp1.groupby(['emd_nm', 'year_month']).sum().reset_index()\n",
    "temp2 = data2.copy()\n",
    "temp2 = data2.groupby(['emd_nm', 'year_month', 'time', 'age']).sum().reset_index()"
   ]
  },
  {
   "cell_type": "code",
   "execution_count": null,
   "id": "6a36735f",
   "metadata": {},
   "outputs": [],
   "source": [
    "temp2_prep = temp2[['emd_nm', 'year_month']].drop_duplicates().reset_index(drop=True)\n",
    "for i in sorted(set(temp2['age'])):\n",
    "    temp = temp2[temp2['age'] == i]\n",
    "    for j in sorted(set(temp['time'])):\n",
    "        temp_1 = temp[temp['time'] == j].reset_index()\n",
    "        exec(\"temp2_prep['r-\"+ str(i) + \"-\" + str(j) +\"'] = temp_1['resd_pop_cnt']\")\n",
    "\n",
    "for i in sorted(set(temp2['age'])):\n",
    "    temp = temp2[temp2['age'] == i]\n",
    "    for j in sorted(set(temp['time'])):\n",
    "        temp_1 = temp[temp['time'] == j].reset_index()\n",
    "        exec(\"temp2_prep['w-\"+ str(i) + \"-\" + str(j) +\"'] = temp_1['work_pop_cnt']\")\n",
    "        \n",
    "for i in sorted(set(temp2['age'])):\n",
    "    temp = temp2[temp2['age'] == i]\n",
    "    for j in sorted(set(temp['time'])):\n",
    "        temp_1 = temp[temp['time'] == j].reset_index()\n",
    "        exec(\"temp2_prep['v-\"+ str(i) + \"-\" + str(j) +\"'] = temp_1['visit_pop_cnt']\")\n",
    "        "
   ]
  },
  {
   "cell_type": "code",
   "execution_count": null,
   "id": "cd04ccd7",
   "metadata": {},
   "outputs": [],
   "source": [
    "temp_var = list(temp2_prep.columns)[2:]\n",
    "emd_var = list(set(temp2_prep.emd_nm))"
   ]
  },
  {
   "cell_type": "code",
   "execution_count": null,
   "id": "d46c2bde",
   "metadata": {},
   "outputs": [],
   "source": [
    "pd.DataFrame(columns=temp_var, index=['raw', 'diff', 'log', 'log_diff', 'method'])"
   ]
  },
  {
   "cell_type": "code",
   "execution_count": null,
   "id": "a4773cd1",
   "metadata": {},
   "outputs": [],
   "source": [
    "def adf_test(x):\n",
    "    if sum(1-np.isfinite(x)) == 0:\n",
    "        return adfuller(x)[1]\n",
    "        \n",
    "    else:\n",
    "        return np.nan"
   ]
  },
  {
   "cell_type": "code",
   "execution_count": null,
   "id": "9c29d199",
   "metadata": {},
   "outputs": [],
   "source": [
    "from statsmodels.tsa.stattools import adfuller\n",
    "n=0\n",
    "for i in sorted(set(temp2_prep['emd_nm'])):\n",
    "    temp = temp2_prep[temp2_prep['emd_nm'] == i].reset_index(drop=True)\n",
    "    exec(\"method_\" + str(n) + \"= pd.DataFrame(columns=temp_var, index=['raw', 'diff', 'log', 'log_diff', 'method'])\")\n",
    "    exec(\"method_\" + str(n) + \".loc['raw',:] = list(temp.iloc[:,2:].apply(lambda x: adf_test(x), axis=0))\")\n",
    "    exec(\"method_\" + str(n) + \".loc['log',:] = list(temp.iloc[:,2:].apply(lambda x: adf_test(np.log(x)), axis=0))\")\n",
    "    exec(\"method_\" + str(n) + \".loc['diff',:] = list(temp.iloc[:,2:].apply(lambda x: adf_test(x.diff()[1:]), axis=0))\")\n",
    "    exec(\"method_\" + str(n) + \".loc['log_diff',:] = list(temp.iloc[:,2:].apply(lambda x: adf_test(np.log(x).diff()[1:]), axis=0))\")\n",
    "    n+=1"
   ]
  },
  {
   "cell_type": "code",
   "execution_count": null,
   "id": "bf12e0ec",
   "metadata": {},
   "outputs": [],
   "source": [
    "for i in sorted(set(temp1['emd_nm'])):\n",
    "    temp = temp1[temp1['emd_nm'] == i].reset_index(drop=True)\n",
    "    print(i)\n",
    "    print(adf_test(np.log(temp['em_g']).diff()[1:]))"
   ]
  },
  {
   "cell_type": "code",
   "execution_count": null,
   "id": "9eb34690",
   "metadata": {},
   "outputs": [],
   "source": [
    "def method(x):\n",
    "    if (x[0] < 0.05):\n",
    "        return 'raw'\n",
    "    elif (x[1] < 0.05):\n",
    "        return 'diff'\n",
    "    elif (x[2] < 0.05):\n",
    "        return 'log'\n",
    "    elif (x[3] < 0.05):\n",
    "        return 'log_diff'\n",
    "    else:\n",
    "        return np.nan"
   ]
  },
  {
   "cell_type": "code",
   "execution_count": null,
   "id": "28b0974f",
   "metadata": {},
   "outputs": [],
   "source": [
    "method_0.loc['method',:] = method_0.apply(lambda x: method(x), axis=0)"
   ]
  },
  {
   "cell_type": "code",
   "execution_count": null,
   "id": "7f479656",
   "metadata": {},
   "outputs": [],
   "source": [
    "for i in range(0, len(set(temp2_prep['emd_nm']))):\n",
    "    exec(\"method_\" + str(i) + \".loc['method',:] = method_\" + str(i) + \".apply(lambda x: method(x), axis=0)\")"
   ]
  },
  {
   "cell_type": "code",
   "execution_count": null,
   "id": "ea1483bf",
   "metadata": {},
   "outputs": [],
   "source": [
    "def trans(x, m):\n",
    "    if m == 'raw':\n",
    "        return x.shift(1)\n",
    "    elif m == 'diff':\n",
    "        return x.astype('float').diff().shift(1)\n",
    "    elif m == 'log':\n",
    "        return np.log(x.astype('float')).shift(1)\n",
    "    elif m == 'log_diff':\n",
    "        return np.log(x.astype('float')).diff().shift(1)\n",
    "    else:\n",
    "        return pd.Series(np.repeat(np.nan, len(x)))"
   ]
  },
  {
   "cell_type": "code",
   "execution_count": null,
   "id": "4f339654",
   "metadata": {},
   "outputs": [],
   "source": [
    "n=0\n",
    "corr_result = pd.DataFrame(index = sorted(list(set(temp2_prep['emd_nm']))),\n",
    "                          columns = temp_var)\n",
    "prep_data = pd.DataFrame()\n",
    "for i in sorted(set(temp2_prep['emd_nm'])):\n",
    "    if (i in set(temp1['emd_nm'])):\n",
    "        temp = temp1[temp1['emd_nm'] == i].reset_index(drop=True)\n",
    "        temp['em_g'] = temp['em_g'].diff()\n",
    "        temp_1 = temp2_prep[temp2_prep['emd_nm'] == i].reset_index(drop=True)\n",
    "        temp_2 = temp_1.T.iloc[2:,:]\n",
    "        exec(\"temp_2['method'] = method_\"+ str(n) +\".T['method']\")\n",
    "        temp_1.iloc[:,2:] = temp_2.apply(lambda x: trans(x[:-1],x.iloc[-1:].values), axis=1).T\n",
    "        temp_3 = pd.merge(temp_1, temp[['year_month', 'em_g']], on='year_month', how='outer')\n",
    "        temp_4 = temp_3.iloc[:,2:-1]\n",
    "        temp_5 = temp_3.iloc[:,-1]\n",
    "        corr_result.loc[i,:] = temp_4.apply(lambda x: x.corr(temp_5), axis=0)\n",
    "        prep_data = pd.concat([prep_data, temp_3.iloc[:,:-1]], axis=0)\n",
    "    n+=1"
   ]
  },
  {
   "cell_type": "code",
   "execution_count": null,
   "id": "25e60415",
   "metadata": {},
   "outputs": [],
   "source": [
    "corr_result[abs(corr_result)>0.3].to_csv('corr_result_final.csv', encoding = 'cp949')"
   ]
  },
  {
   "cell_type": "code",
   "execution_count": null,
   "id": "83eb016a",
   "metadata": {},
   "outputs": [],
   "source": [
    "for i in sorted(set(prep_data['emd_nm'])):\n",
    "    temp_1 = prep_data[prep_data['emd_nm'] == i]\n",
    "    temp_2 = corr_result.loc[i, :]\n",
    "    temp_1[temp[temp.isna() == True].index] = np.nan\n",
    "    prep_data[prep_data['emd_nm'] == i] = temp_1"
   ]
  },
  {
   "cell_type": "code",
   "execution_count": null,
   "id": "94f8479a",
   "metadata": {},
   "outputs": [],
   "source": [
    "prep_data_1 = pd.DataFrame()\n",
    "for i in sorted(set(prep_data['emd_nm'])):\n",
    "    temp_1 = prep_data[prep_data['emd_nm'] == i].reset_index(drop = True)\n",
    "    temp_2 = temp1[temp1['emd_nm'] == i].reset_index(drop = True)\n",
    "    temp_2['em_g'] = temp_2['em_g'].diff()\n",
    "    prep_data_1 = pd.concat([prep_data_1, pd.merge(temp_1, temp_2[['year_month', 'em_g']], on='year_month', how='outer')])"
   ]
  },
  {
   "cell_type": "code",
   "execution_count": null,
   "id": "ddf63841",
   "metadata": {},
   "outputs": [],
   "source": [
    "temp_1 = prep_data[prep_data['emd_nm'] == '건입동'].reset_index(drop = True)\n",
    "temp_2 = temp1[temp1['emd_nm'] == '건입동'].reset_index(drop = True)"
   ]
  },
  {
   "cell_type": "code",
   "execution_count": null,
   "id": "c4ab4df1",
   "metadata": {},
   "outputs": [],
   "source": [
    "temp_2['em_g'] = temp_2['em_g'].diff()"
   ]
  },
  {
   "cell_type": "code",
   "execution_count": null,
   "id": "b632d27c",
   "metadata": {},
   "outputs": [],
   "source": [
    "card_result = pd.read_csv('card_result.csv')\n",
    "long_foreign = pd.read_csv('foreign_result.csv')"
   ]
  },
  {
   "cell_type": "code",
   "execution_count": null,
   "id": "31447976",
   "metadata": {},
   "outputs": [],
   "source": [
    "card_result = card_result.drop(['Unnamed: 0'], axis=1)"
   ]
  },
  {
   "cell_type": "code",
   "execution_count": null,
   "id": "39fcab7c",
   "metadata": {},
   "outputs": [],
   "source": [
    "card_result = card_result.sort_values(by=['emd_nm', 'mct_cat_nm', 'year_month']).reset_index(drop=True)"
   ]
  },
  {
   "cell_type": "code",
   "execution_count": null,
   "id": "02f269a3",
   "metadata": {},
   "outputs": [],
   "source": [
    "card_data = pd.DataFrame()\n",
    "card_data['emd_nm'] = np.nan\n",
    "card_data['year_month'] = np.nan\n",
    "card_data[list(sorted(set(card_result['mct_cat_nm'])))] = np.nan\n",
    "\n",
    "for i in sorted(set(prep_data_1['emd_nm'])):\n",
    "    temp_data = pd.DataFrame()\n",
    "    temp_data['year_month'] = sorted(set(prep_data['year_month']))\n",
    "    temp_data['emd_nm'] = i\n",
    "    temp_data[sorted(set(card_result['mct_cat_nm']))] = np.nan\n",
    "    temp = card_result[card_result['emd_nm'] == i].reset_index(drop=True)\n",
    "    for j in sorted(set(temp['mct_cat_nm'])):\n",
    "        temp_1 = temp[temp['mct_cat_nm'] == j].reset_index(drop = True)\n",
    "        temp_data[j] = temp_1['use_amt2']\n",
    "    card_data = pd.concat([card_data, temp_data], axis=0)"
   ]
  },
  {
   "cell_type": "code",
   "execution_count": null,
   "id": "896a5133",
   "metadata": {},
   "outputs": [],
   "source": [
    "card_data = card_data.reset_index(drop=True)"
   ]
  },
  {
   "cell_type": "code",
   "execution_count": null,
   "id": "b7d1532f",
   "metadata": {},
   "outputs": [],
   "source": [
    "long_foreign = long_foreign.drop(['Unnamed: 0'], axis=1)"
   ]
  },
  {
   "cell_type": "code",
   "execution_count": null,
   "id": "70eeb6b8",
   "metadata": {},
   "outputs": [],
   "source": [
    "long_foreign = long_foreign.sort_values(by = ['emd_nm',  'nationality','year_month']).reset_index(drop=True)"
   ]
  },
  {
   "cell_type": "code",
   "execution_count": null,
   "id": "e1642c0f",
   "metadata": {},
   "outputs": [],
   "source": [
    "lf_data = pd.DataFrame()\n",
    "lf_data['emd_nm'] = np.nan\n",
    "lf_data['year_month'] = np.nan\n",
    "lf_data[list(sorted(set(long_foreign['nationality'])))] = np.nan\n",
    "\n",
    "for i in sorted(set(prep_data_1['emd_nm'])):\n",
    "    temp_data = pd.DataFrame()\n",
    "    temp_data['year_month'] = sorted(set(long_foreign['year_month']))\n",
    "    temp_data['emd_nm'] = i\n",
    "    temp_data[sorted(set(long_foreign['nationality']))] = np.nan\n",
    "    temp = long_foreign[long_foreign['emd_nm'] == i].reset_index(drop=True)\n",
    "    for j in sorted(set(long_foreign['nationality'])):\n",
    "        temp_1 = temp[temp['nationality'] == j].reset_index(drop = True)\n",
    "        temp_data[j] = temp_1['tot_pop_cnt2']\n",
    "    lf_data = pd.concat([lf_data, temp_data], axis=0)"
   ]
  },
  {
   "cell_type": "code",
   "execution_count": null,
   "id": "cd6e55a6",
   "metadata": {},
   "outputs": [],
   "source": [
    "lf_data = lf_data.reset_index(drop=True)"
   ]
  },
  {
   "cell_type": "code",
   "execution_count": null,
   "id": "5f0469ec",
   "metadata": {},
   "outputs": [],
   "source": [
    "prep_data_1 = prep_data_1.reset_index(drop=True)"
   ]
  },
  {
   "cell_type": "code",
   "execution_count": null,
   "id": "5e94a840",
   "metadata": {},
   "outputs": [],
   "source": [
    "X=prep_data_1.iloc[:,:-1]\n",
    "y = prep_data_1.iloc[:,-1]"
   ]
  },
  {
   "cell_type": "code",
   "execution_count": null,
   "id": "fb795f8c",
   "metadata": {},
   "outputs": [],
   "source": [
    "X = pd.concat([X, card_data.iloc[:,2:], lf_data.iloc[:,2:]], axis=1).reset_index(drop=True)\n",
    "#X = pd.concat([X, lf_data.iloc[:,2:]], axis=1).reset_index(drop=True)\n",
    "prep_data_2 = pd.concat([X, y], axis=1).reset_index(drop=True)"
   ]
  },
  {
   "cell_type": "code",
   "execution_count": null,
   "id": "dc9c4e5e",
   "metadata": {},
   "outputs": [],
   "source": [
    "t1 = pd.read_csv('jeju_temp.csv', encoding = 'cp949')\n",
    "t2 = pd.read_csv('songsan_temp.csv', encoding= 'cp949')\n",
    "t3 = pd.read_csv('gosan_temp.csv', encoding='cp949')\n",
    "t4 = pd.read_csv('seogwipo_temp.csv', encoding='cp949')"
   ]
  },
  {
   "cell_type": "code",
   "execution_count": null,
   "id": "9aba047a",
   "metadata": {},
   "outputs": [],
   "source": [
    "obs = pd.read_csv('행정동별 날씨 관측지.csv', encoding='cp949')"
   ]
  },
  {
   "cell_type": "code",
   "execution_count": null,
   "id": "3f595860",
   "metadata": {},
   "outputs": [],
   "source": [
    "X = prep_data_2.iloc[:, :-1]\n",
    "y = prep_data_2.iloc[:, -1]"
   ]
  },
  {
   "cell_type": "code",
   "execution_count": null,
   "id": "aaa5c842",
   "metadata": {},
   "outputs": [],
   "source": [
    "X['avg_temp'] = np.nan\n",
    "for i in sorted(set(prep_data_2['emd_nm'])):\n",
    "    temp_spot = obs['spot'][obs[obs['emd_nm'] == i].index]\n",
    "    \n",
    "    if (temp_spot == '제주').sum():\n",
    "        X['avg_temp'][prep_data_2['emd_nm'] == i] = list(t1['평균기온(°C)'])\n",
    "    elif (temp_spot == '성산').sum():\n",
    "        X['avg_temp'][prep_data_2['emd_nm'] == i] = list(t2['평균기온(°C)'])\n",
    "    elif (temp_spot == '고산').sum():\n",
    "        X['avg_temp'][prep_data_2['emd_nm'] == i] = list(t3['평균기온(°C)'])\n",
    "    elif (temp_spot == '서귀포').sum():\n",
    "        X['avg_temp'][prep_data_2['emd_nm'] == i] = list(t4['평균기온(°C)'])"
   ]
  },
  {
   "cell_type": "code",
   "execution_count": null,
   "id": "8686d242",
   "metadata": {},
   "outputs": [],
   "source": [
    "prep_data_2 = pd.concat([X,y], axis=1)"
   ]
  },
  {
   "cell_type": "code",
   "execution_count": null,
   "id": "2bf65058",
   "metadata": {},
   "outputs": [],
   "source": [
    "short_foreign = pd.read_csv('단기체류변형값만.csv')"
   ]
  },
  {
   "cell_type": "code",
   "execution_count": null,
   "id": "790f645b",
   "metadata": {},
   "outputs": [],
   "source": [
    "short_foreign = short_foreign.drop(['Unnamed: 0'], axis=1)\n",
    "short_foreign = short_foreign.sort_values(by = ['emd_nm',  'nationality','year_month']).reset_index(drop=True)\n",
    "sf_data = pd.DataFrame()\n",
    "sf_data['emd_nm'] = np.nan\n",
    "sf_data['year_month'] = np.nan\n",
    "\n",
    "\n",
    "\n",
    "for i in sorted(set(prep_data_1['emd_nm'])):\n",
    "    temp_data = pd.DataFrame()\n",
    "    temp_data['year_month'] = sorted(set(short_foreign['year_month']))\n",
    "    temp_data['emd_nm'] = i\n",
    "    temp = short_foreign[short_foreign['emd_nm'] == i].reset_index(drop=True)\n",
    "    for j in sorted(set(short_foreign['nationality'])):\n",
    "        temp_1 = temp[temp['nationality'] == j].reset_index(drop = True)\n",
    "        temp_data['S-' + j] = temp_1['visit_pop_cnt2']\n",
    "    sf_data = pd.concat([sf_data, temp_data], axis=0)"
   ]
  },
  {
   "cell_type": "code",
   "execution_count": null,
   "id": "c84573b2",
   "metadata": {},
   "outputs": [],
   "source": [
    "sf_data = sf_data.reset_index(drop=True)"
   ]
  },
  {
   "cell_type": "code",
   "execution_count": null,
   "id": "a3f28889",
   "metadata": {},
   "outputs": [],
   "source": [
    "sf_data"
   ]
  },
  {
   "cell_type": "code",
   "execution_count": null,
   "id": "1af7d41d",
   "metadata": {},
   "outputs": [],
   "source": [
    "X = prep_data_2.iloc[:,:-2]\n",
    "y = prep_data_2.iloc[:,-2:]"
   ]
  },
  {
   "cell_type": "code",
   "execution_count": null,
   "id": "bcb0db64",
   "metadata": {},
   "outputs": [],
   "source": [
    "X = pd.concat([X, sf_data.iloc[:,2:]], axis=1).reset_index(drop=True)\n",
    "prep_data_3 = pd.concat([X, y], axis=1).reset_index(drop=True)\n",
    "prep_data_3"
   ]
  },
  {
   "cell_type": "code",
   "execution_count": null,
   "id": "af92523e",
   "metadata": {},
   "outputs": [],
   "source": [
    "r1 = pd.read_csv('jeju_rain.csv', encoding = 'cp949')\n",
    "r2 = pd.read_csv('songsan_rain.csv', encoding = 'cp949')\n",
    "r3 = pd.read_csv('gosan_rain.csv', encoding = 'cp949')\n",
    "r4 = pd.read_csv('seogwipo_rain.csv', encoding = 'cp949')\n",
    "\n",
    "r1"
   ]
  },
  {
   "cell_type": "code",
   "execution_count": null,
   "id": "c5fc0767",
   "metadata": {},
   "outputs": [],
   "source": [
    "X['rain'] = np.nan\n",
    "for i in sorted(set(prep_data_2['emd_nm'])):\n",
    "    temp_spot = obs['spot'][obs[obs['emd_nm'] == i].index]\n",
    "    \n",
    "    if (temp_spot == '제주').sum():\n",
    "        X['rain'][prep_data_3['emd_nm'] == i] = list(r1['월합강수량(00~24h만)(mm)'])\n",
    "    elif (temp_spot == '성산').sum():\n",
    "        X['rain'][prep_data_3['emd_nm'] == i] = list(r2['월합강수량(00~24h만)(mm)'])\n",
    "    elif (temp_spot == '고산').sum():\n",
    "        X['rain'][prep_data_3['emd_nm'] == i] = list(r3['월합강수량(00~24h만)(mm)'])\n",
    "    elif (temp_spot == '서귀포').sum():\n",
    "        X['rain'][prep_data_3['emd_nm'] == i] = list(r4['월합강수량(00~24h만)(mm)'])"
   ]
  },
  {
   "cell_type": "code",
   "execution_count": null,
   "id": "fd8860c4",
   "metadata": {},
   "outputs": [],
   "source": [
    "prep_data_3['rain'] = X['rain']"
   ]
  },
  {
   "cell_type": "code",
   "execution_count": null,
   "id": "ce8e5978",
   "metadata": {},
   "outputs": [],
   "source": [
    "temp_y = prep_data_3['em_g']\n",
    "temp_x = prep_data_3.drop(['em_g'], axis=1)\n"
   ]
  },
  {
   "cell_type": "code",
   "execution_count": null,
   "id": "d1247ba5",
   "metadata": {},
   "outputs": [],
   "source": [
    "prep_data_3 = pd.concat([temp_x, temp_y], axis=1)"
   ]
  },
  {
   "cell_type": "code",
   "execution_count": null,
   "id": "a784655c",
   "metadata": {},
   "outputs": [],
   "source": [
    "for i in sorted(set(prep_data_3['emd_nm'])):\n",
    "    prep_data_3['avg_temp'][prep_data_3['emd_nm'] == i] = prep_data_3['avg_temp'][prep_data_3['emd_nm'] == i].shift(1)\n",
    "    prep_data_3['rain'][prep_data_3['emd_nm'] == i] = prep_data_3['rain'][prep_data_3['emd_nm'] == i].shift(1)"
   ]
  },
  {
   "cell_type": "code",
   "execution_count": null,
   "id": "3492cd26",
   "metadata": {},
   "outputs": [],
   "source": [
    "from sklearn.preprocessing import StandardScaler\n",
    "from sklearn.decomposition import PCA\n",
    "import statsmodels.api as sm\n",
    "for i in sorted(set(prep_data_3['emd_nm'])):\n",
    "    temp = prep_data_3[prep_data_3['emd_nm'] == i].iloc[:, 2:].reset_index(drop=True)\n",
    "    target = temp.iloc[:, -1]\n",
    "    temp_1 = temp.iloc[:, :-1]\n",
    "    \n",
    "    n = target.isna().sum() + 1\n",
    "    \n",
    "    target = target.iloc[n:].reset_index(drop=True)\n",
    "    temp_1 = temp_1.iloc[n:,:].reset_index(drop=True)\n",
    "    temp_1 = temp_1.dropna(axis=1)\n",
    "    std_df = StandardScaler().fit_transform(temp_1)\n",
    "    std_df = pd.DataFrame(std_df, index=temp_1.index, columns=temp_1.columns)\n",
    "    temp_1 = std_df\n",
    "    pca = PCA(n_components=min(len(temp_1.columns), len(temp_1.index)))\n",
    "    pca_array = pca.fit_transform(temp_1)\n",
    "    pca_df = pd.DataFrame(pca_array, index=temp_1.index,\n",
    "                      columns=[f\"pca{num+1}\" for num in range(min(len(temp_1.columns), len(temp_1.index)))])\n",
    "    pca_df.head()\n",
    "    result = pd.DataFrame({'설명가능한 분산 비율(고윳값)':pca.explained_variance_,\n",
    "             '기여율':pca.explained_variance_ratio_},\n",
    "            index=np.array([f\"pca{num+1}\" for num in range(min(len(temp_1.columns), len(temp_1.index)))]))\n",
    "\n",
    "    result['누적기여율'] = result['기여율'].cumsum()\n",
    "    print(i)\n",
    "    #print(result)\n",
    "    n = len(result['누적기여율']>0.95) - (result['누적기여율']>0.95).sum() + 1\n",
    "    pca_x = PCA(n_components = n)\n",
    "    pca_x_array = pca_x.fit_transform(temp_1)\n",
    "    pca_df = pd.DataFrame(pca_x_array, index = temp_1.index,\n",
    "                         columns=[f\"pca{num+1}\" for num in range(n)])\n",
    "    pca_df = sm.add_constant(pca_df, has_constant = 'add')\n",
    "    temp_loop = True\n",
    "    while (temp_loop):\n",
    "        model = sm.OLS(target, pca_df)\n",
    "        fitted_model = model.fit()\n",
    "        p = pd.DataFrame(fitted_model.pvalues).reset_index()\n",
    "        if (p.iloc[1:,1] > 0.05).sum() == 0:\n",
    "            temp_loop = False\n",
    "        else:\n",
    "            temp_drop = p[p.iloc[0:,1] == max(p.iloc[1:,1])].iloc[0]['index']\n",
    "            pca_df = pca_df.drop([temp_drop], axis=1)\n",
    "    print(i)\n",
    "    model = sm.OLS(target, pca_df)\n",
    "    fitted_model = model.fit()\n",
    "    print(fitted_model.summary())"
   ]
  },
  {
   "cell_type": "code",
   "execution_count": null,
   "id": "8bf6eedb",
   "metadata": {},
   "outputs": [],
   "source": []
  },
  {
   "cell_type": "code",
   "execution_count": null,
   "id": "72ec5533",
   "metadata": {},
   "outputs": [],
   "source": []
  }
 ],
 "metadata": {
  "kernelspec": {
   "display_name": "Python 3",
   "language": "python",
   "name": "python3"
  },
  "language_info": {
   "codemirror_mode": {
    "name": "ipython",
    "version": 3
   },
   "file_extension": ".py",
   "mimetype": "text/x-python",
   "name": "python",
   "nbconvert_exporter": "python",
   "pygments_lexer": "ipython3",
   "version": "3.6.10"
  }
 },
 "nbformat": 4,
 "nbformat_minor": 5
}
